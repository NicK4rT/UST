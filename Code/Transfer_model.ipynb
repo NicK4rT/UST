{
 "cells": [
  {
   "cell_type": "code",
   "execution_count": 93,
   "id": "e9297d3c",
   "metadata": {},
   "outputs": [],
   "source": [
    "#imports\n",
    "import pandas as pd\n",
    "import numpy as np\n",
    "import math"
   ]
  },
  {
   "cell_type": "code",
   "execution_count": 91,
   "id": "ffbdc3ae",
   "metadata": {},
   "outputs": [],
   "source": [
    "#data imports\n",
    "regions = pd.read_csv(r'risk_data.csv', sep=\";\", usecols=[0])\n",
    "risk_data = pd.read_csv(r'risk_data.csv', sep=\";\", index_col=0)\n",
    "asset_values = pd.read_csv(r'asset_values.csv', sep = \";\", index_col=0)\n",
    "influences = pd.read_csv(r'influences.csv', sep=\";\", index_col = 0)\n",
    "base_data = pd.read_csv(r'base_data.csv', sep=\";\", index_col=0)"
   ]
  },
  {
   "cell_type": "code",
   "execution_count": 77,
   "id": "6ab84a7c",
   "metadata": {},
   "outputs": [],
   "source": [
    "agg_risk = risk_data.sum(axis=1)"
   ]
  },
  {
   "cell_type": "code",
   "execution_count": 85,
   "id": "3cc2a397",
   "metadata": {},
   "outputs": [],
   "source": [
    "#risk per capita\n",
    "rpk = agg_risk/base_data[\"pop\"]\n",
    "yearly_wage = base_data[\"sim_wage\"]*52\n"
   ]
  },
  {
   "cell_type": "code",
   "execution_count": 105,
   "id": "53031cca",
   "metadata": {},
   "outputs": [],
   "source": [
    "#transfer payment method 1\n",
    "transfer_payment = 0.2*sum(yearly_wage)*(rpk/sum(rpk))-0.2*yearly_wage"
   ]
  },
  {
   "cell_type": "code",
   "execution_count": 103,
   "id": "97d6c766",
   "metadata": {},
   "outputs": [],
   "source": [
    "#initializing base states - I think not really necessary since we used it to calculate b in the Excel. Only for welfare calc\n",
    "v_base = base_data[\"b_i\"]*yearly_wage/rpk\n",
    "PI_base = v_base/sum(v_base)\n",
    "H_base = PI_base*sum(base_data[\"pop\"])\n",
    "A_base = np.empty(len(agg_risk), dtype=\"float\")\n",
    "for i in range(len(agg_risk)):\n",
    "    A_base[i] = math.pow(H_base[i], (base_data[\"prod\"][i]/100))"
   ]
  },
  {
   "cell_type": "code",
   "execution_count": 110,
   "id": "46206212",
   "metadata": {},
   "outputs": [],
   "source": [
    "#time_step_0\n",
    "v_0=(base_data[\"b_i\"]*(yearly_wage+transfer_payment)/rpk)\n",
    "PI_0=v_0/sum(v_0)\n",
    "H_0=PI_0*sum(base_data[\"pop\"])\n",
    "pop_dens_0=H_0/base_data[\"area\"]\n",
    "#wage level adaption based on population density --> Linear regression on weekly wage shows beta_0 = 598.74 and beta_1 = 0.0359\n",
    "wage_1 = (0.0359*pop_dens_0+598.74)*52\n",
    "\n",
    "#time_step_1\n",
    "rpk_1 = agg_risk/H_0\n",
    "v_1=(base_data[\"b_i\"]*(wage_1+transfer_payment)/rpk_1)\n",
    "PI_1 = v_1/sum(v_1)\n",
    "H_1 = PI_1*sum(base_data[\"pop\"])\n",
    "A_1 = np.empty(len(agg_risk), dtype=\"float\")\n",
    "for i in range(len(agg_risk)):\n",
    "    A_1[i] = math.pow(H_1[i], (base_data[\"prod\"][i]/100)) #assumption: Productivity is based on regional factors and does not change\n"
   ]
  },
  {
   "cell_type": "code",
   "execution_count": 115,
   "id": "37ef4ccb",
   "metadata": {},
   "outputs": [],
   "source": [
    "welfare_increase = sum(A_1)-sum(A_base)\n",
    "inc_perc = 100*welfare_reduction/sum(A_base)"
   ]
  },
  {
   "cell_type": "code",
   "execution_count": 116,
   "id": "c5d82af8",
   "metadata": {},
   "outputs": [
    {
     "name": "stdout",
     "output_type": "stream",
     "text": [
      "The increase in welfare with the given transfer policy is -17017605825.303848 which is an increase of -37.88639120198049 percent.\n"
     ]
    }
   ],
   "source": [
    "print(\"The increase in welfare with the given transfer policy is %s which is an increase of %s percent.\" % (welfare_increase, inc_perc))"
   ]
  }
 ],
 "metadata": {
  "kernelspec": {
   "display_name": "Python 3 (ipykernel)",
   "language": "python",
   "name": "python3"
  },
  "language_info": {
   "codemirror_mode": {
    "name": "ipython",
    "version": 3
   },
   "file_extension": ".py",
   "mimetype": "text/x-python",
   "name": "python",
   "nbconvert_exporter": "python",
   "pygments_lexer": "ipython3",
   "version": "3.9.13"
  }
 },
 "nbformat": 4,
 "nbformat_minor": 5
}
