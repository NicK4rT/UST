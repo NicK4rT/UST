{
 "cells": [
  {
   "cell_type": "code",
   "execution_count": 30,
   "id": "e9297d3c",
   "metadata": {},
   "outputs": [
    {
     "ename": "ModuleNotFoundError",
     "evalue": "No module named 'matplotlib'",
     "output_type": "error",
     "traceback": [
      "\u001b[0;31m---------------------------------------------------------------------------\u001b[0m",
      "\u001b[0;31mModuleNotFoundError\u001b[0m                       Traceback (most recent call last)",
      "Cell \u001b[0;32mIn [30], line 5\u001b[0m\n\u001b[1;32m      3\u001b[0m \u001b[39mimport\u001b[39;00m \u001b[39mnumpy\u001b[39;00m \u001b[39mas\u001b[39;00m \u001b[39mnp\u001b[39;00m\n\u001b[1;32m      4\u001b[0m \u001b[39mimport\u001b[39;00m \u001b[39mmath\u001b[39;00m\n\u001b[0;32m----> 5\u001b[0m \u001b[39mimport\u001b[39;00m \u001b[39mmatplotlib\u001b[39;00m\n\u001b[1;32m      6\u001b[0m \u001b[39mfrom\u001b[39;00m \u001b[39mmatplotlib\u001b[39;00m \u001b[39mimport\u001b[39;00m pyplot \u001b[39mas\u001b[39;00m plt\n",
      "\u001b[0;31mModuleNotFoundError\u001b[0m: No module named 'matplotlib'"
     ]
    }
   ],
   "source": [
    "#imports\n",
    "import pandas as pd\n",
    "import numpy as np\n",
    "import math\n"
   ]
  },
  {
   "cell_type": "code",
   "execution_count": 2,
   "id": "ffbdc3ae",
   "metadata": {},
   "outputs": [],
   "source": [
    "#data imports\n",
    "regions = pd.read_csv(r'risk_data.csv', sep=\";\", usecols=[0])\n",
    "risk_data = pd.read_csv(r'risk_data.csv', sep=\";\", index_col=0)\n",
    "asset_values = pd.read_csv(r'asset_values.csv', sep = \";\", index_col=0)\n",
    "influences = pd.read_csv(r'influences.csv', sep=\";\", index_col = 0)\n",
    "base_data = pd.read_csv(r'base_data.csv', sep=\";\", index_col=0)"
   ]
  },
  {
   "cell_type": "code",
   "execution_count": 3,
   "id": "6ab84a7c",
   "metadata": {},
   "outputs": [],
   "source": [
    "agg_risk = risk_data.sum(axis=1)"
   ]
  },
  {
   "cell_type": "code",
   "execution_count": 16,
   "id": "3cc2a397",
   "metadata": {},
   "outputs": [],
   "source": [
    "#risk per capita\n",
    "rpk = agg_risk/base_data[\"pop\"]\n",
    "yearly_wage = base_data[\"sim_wage\"]*52\n"
   ]
  },
  {
   "cell_type": "code",
   "execution_count": 18,
   "id": "53031cca",
   "metadata": {},
   "outputs": [],
   "source": [
    "#transfer payment method 1\n",
    "transfer_payment = 0.2*sum(yearly_wage)*(rpk/sum(rpk))-0.2*yearly_wage\n"
   ]
  },
  {
   "cell_type": "code",
   "execution_count": 28,
   "id": "6d811d27",
   "metadata": {},
   "outputs": [
    {
     "name": "stdout",
     "output_type": "stream",
     "text": [
      "84025261993.09097\n",
      "[-29706.109603881836, 3136651143.7872696, 6394050506.556343, 9771560259.521416, 13268356759.415771, 16883405320.571121, 20615465378.861115, 24463096301.302895, 28424663798.38566, 32498346893.774345, 36682145404.03483, 40973887879.45037, 45371239955.84518, 49871713066.59167, 54472673463.64301, 59171351496.48931, 63964851098.362404, 68850159429.79282, 73824156630.72379, 78883625633.79648, 84025261993.09097, 89245683684.53043, 94541440836.28815, 99909025349.85059, 105344880374.85812, 110845409603.43576, 116406986352.40677, 122025962404.53247, 127698676582.70547, 133421463033.82242, 139190659201.8494, 145002613472.34503, 150853692473.41116, 156740288020.66342, 162658823696.3599, 168605761055.2692, 174577605452.1792, 180570911488.16302, 186582288074.78397, 192608403117.36548, 198645987820.2457, 204691840618.59396, 210742830742.86496, 216795901423.34625, 222848072743.46088, 228896444151.57648, 234938196642.01352, 240970594616.75858, 246990987440.06985, 252996810698.73233, 258985587181.1603, 264954927588.89005, 270902530994.2485, 276826185058.115, 282723766021.7672, 288593238486.7665, 294432654996.74994, 300240155434.836, 306013966250.1241, 311752399526.50494, 317453851906.6793, 323116803383.91754, 328739815973.71277, 334321532277.0549, 339860673946.61017, 345356040066.6308, 350806505456.9452, 356211018910.8937, 361568601376.5812, 366878344090.3313, 372139406670.7244, 377351015181.1171, 382512460168.0598, 387623094682.53986, 392682332290.5263, 397689645078.82324, 402644561661.80505, 407546665194.1717, 412395591394.44867, 417191026583.5653, 421932705742.4478, 426620410592.20905, 431253967700.1703, 435833246614.60004, 440358158030.7651, 444828651990.57135, 449244716117.7965, 453606373890.65936, 457913682953.207, 462166733466.7881, 466365646502.6403, 470510572476.43933, 474601689625.45374, 478639202528.78687, 482623340671.01447, 486554357049.39453, 490432526824.67206, 494258146015.3967, 498031530235.5428, 501753013475.1261, 505422946923.4178]\n"
     ]
    }
   ],
   "source": [
    "#transfer paymenet method 2\n",
    "# transferring according to risk and population density, rationale: its cheeaper to protect a city than several farms\n",
    "\n",
    "#normalizing risk and population density\n",
    "risk_pc_norm = rpk/sum(rpk)\n",
    "pop_density = base_data[\"pop\"]/base_data[\"area\"]\n",
    "pop_density_norm = pop_density/sum(pop_density)\n",
    "\n",
    "#creating a new combined value from the normalized pop_density and risk\n",
    "combined = risk_pc_norm + pop_density_norm\n",
    "combined_norm = combined/sum(combined)\n",
    "\n",
    "#### transfer method Robin Hood: take percentage and distribute\n",
    "transfer_payment_2 = -0.2*yearly_wage + 0.2*sum(yearly_wage)*(combined_norm)\n",
    "\n",
    "#initializing base states - I think not really necessary since we used it to calculate b in the Excel. Only for welfare calc\n",
    "v_base = base_data[\"b_i\"]*yearly_wage/rpk\n",
    "PI_base = v_base/sum(v_base)\n",
    "H_base = PI_base*sum(base_data[\"pop\"])\n",
    "A_base = np.empty(len(agg_risk), dtype=\"float\")\n",
    "for i in range(len(agg_risk)):\n",
    "    A_base[i] = math.pow(H_base[i], (base_data[\"prod\"][i]/100))\n",
    "\n",
    "#time_step_0\n",
    "v_0=(base_data[\"b_i\"]*(yearly_wage+transfer_payment_2)/rpk)\n",
    "PI_0=v_0/sum(v_0)\n",
    "H_0=PI_0*sum(base_data[\"pop\"])\n",
    "pop_dens_0=H_0/base_data[\"area\"]\n",
    "#wage level adaption based on population density --> Linear regression on weekly wage shows beta_0 = 598.74 and beta_1 = 0.0359\n",
    "wage_1 = (0.0359*pop_dens_0+598.74)*52\n",
    "\n",
    "#time_step_1\n",
    "rpk_1 = agg_risk/H_0\n",
    "v_1=(base_data[\"b_i\"]*(wage_1+transfer_payment_2)/rpk_1)\n",
    "PI_1 = v_1/sum(v_1)\n",
    "H_1 = PI_1*sum(base_data[\"pop\"])\n",
    "A_1 = np.empty(len(agg_risk), dtype=\"float\")\n",
    "for i in range(len(agg_risk)):\n",
    "    A_1[i] = math.pow(H_1[i], (base_data[\"prod\"][i]/100)) #assumption: Productivity is based on regional factors and does not change\n",
    "\n",
    "welfare_increase = sum(A_1)-sum(A_base)\n",
    "inc_perc = 100*welfare_increase/sum(A_base)\n",
    "\n",
    "print(welfare_increase)\n",
    "\n",
    "\n",
    "### transfer method 2: try every percentage of taxes and compare resulting welfare\n",
    "welfare_increase_list = []\n",
    "percentage = []\n",
    "for i in range(101):\n",
    "    transfer_payment_2 = -(i/100)*yearly_wage + + (i/100)*sum(yearly_wage)*(combined_norm)\n",
    "    percentage.append(i/100)\n",
    "\n",
    "    #sorry for the mess, just the same as before\n",
    "    #initializing base states - I think not really necessary since we used it to calculate b in the Excel. Only for welfare calc\n",
    "    v_base = base_data[\"b_i\"]*yearly_wage/rpk\n",
    "    PI_base = v_base/sum(v_base)\n",
    "    H_base = PI_base*sum(base_data[\"pop\"])\n",
    "    A_base = np.empty(len(agg_risk), dtype=\"float\")\n",
    "    for i in range(len(agg_risk)):\n",
    "        A_base[i] = math.pow(H_base[i], (base_data[\"prod\"][i]/100))\n",
    "\n",
    "    #time_step_0\n",
    "    v_0=(base_data[\"b_i\"]*(yearly_wage+transfer_payment_2)/rpk)\n",
    "    PI_0=v_0/sum(v_0)\n",
    "    H_0=PI_0*sum(base_data[\"pop\"])\n",
    "    pop_dens_0=H_0/base_data[\"area\"]\n",
    "    #wage level adaption based on population density --> Linear regression on weekly wage shows beta_0 = 598.74 and beta_1 = 0.0359\n",
    "    wage_1 = (0.0359*pop_dens_0+598.74)*52\n",
    "\n",
    "    #time_step_1\n",
    "    rpk_1 = agg_risk/H_0\n",
    "    v_1=(base_data[\"b_i\"]*(wage_1+transfer_payment_2)/rpk_1)\n",
    "    PI_1 = v_1/sum(v_1)\n",
    "    H_1 = PI_1*sum(base_data[\"pop\"])\n",
    "    A_1 = np.empty(len(agg_risk), dtype=\"float\")\n",
    "    for i in range(len(agg_risk)):\n",
    "        A_1[i] = math.pow(H_1[i], (base_data[\"prod\"][i]/100)) #assumption: Productivity is based on regional factors and does not change\n",
    "\n",
    "    welfare_increase = sum(A_1)-sum(A_base)\n",
    "    inc_perc = 100*welfare_increase/sum(A_base)\n",
    "    welfare_increase_list.append(welfare_increase)\n",
    "\n",
    "print(welfare_increase_list)\n"
   ]
  },
  {
   "cell_type": "code",
   "execution_count": 24,
   "id": "97d6c766",
   "metadata": {},
   "outputs": [],
   "source": [
    "#initializing base states - I think not really necessary since we used it to calculate b in the Excel. Only for welfare calc\n",
    "v_base = base_data[\"b_i\"]*yearly_wage/rpk\n",
    "PI_base = v_base/sum(v_base)\n",
    "H_base = PI_base*sum(base_data[\"pop\"])\n",
    "A_base = np.empty(len(agg_risk), dtype=\"float\")\n",
    "for i in range(len(agg_risk)):\n",
    "    A_base[i] = math.pow(H_base[i], (base_data[\"prod\"][i]/100))"
   ]
  },
  {
   "cell_type": "code",
   "execution_count": 25,
   "id": "46206212",
   "metadata": {},
   "outputs": [],
   "source": [
    "#time_step_0\n",
    "v_0=(base_data[\"b_i\"]*(yearly_wage+transfer_payment)/rpk)\n",
    "PI_0=v_0/sum(v_0)\n",
    "H_0=PI_0*sum(base_data[\"pop\"])\n",
    "pop_dens_0=H_0/base_data[\"area\"]\n",
    "#wage level adaption based on population density --> Linear regression on weekly wage shows beta_0 = 598.74 and beta_1 = 0.0359\n",
    "wage_1 = (0.0359*pop_dens_0+598.74)*52\n",
    "\n",
    "#time_step_1\n",
    "rpk_1 = agg_risk/H_0\n",
    "v_1=(base_data[\"b_i\"]*(wage_1+transfer_payment)/rpk_1)\n",
    "PI_1 = v_1/sum(v_1)\n",
    "H_1 = PI_1*sum(base_data[\"pop\"])\n",
    "A_1 = np.empty(len(agg_risk), dtype=\"float\")\n",
    "for i in range(len(agg_risk)):\n",
    "    A_1[i] = math.pow(H_1[i], (base_data[\"prod\"][i]/100)) #assumption: Productivity is based on regional factors and does not change\n"
   ]
  },
  {
   "cell_type": "code",
   "execution_count": 27,
   "id": "37ef4ccb",
   "metadata": {},
   "outputs": [
    {
     "name": "stdout",
     "output_type": "stream",
     "text": [
      "-17017605825.303848\n"
     ]
    }
   ],
   "source": [
    "welfare_increase = sum(A_1)-sum(A_base)\n",
    "inc_perc = 100*welfare_increase/sum(A_base)\n",
    "print(welfare_increase)"
   ]
  },
  {
   "cell_type": "code",
   "execution_count": 116,
   "id": "c5d82af8",
   "metadata": {},
   "outputs": [
    {
     "name": "stdout",
     "output_type": "stream",
     "text": [
      "The increase in welfare with the given transfer policy is -17017605825.303848 which is an increase of -37.88639120198049 percent.\n"
     ]
    }
   ],
   "source": [
    "print(\"The increase in welfare with the given transfer policy is %s which is an increase of %s percent.\" % (welfare_increase, inc_perc))"
   ]
  }
 ],
 "metadata": {
  "kernelspec": {
   "display_name": "Python 3.11.0 64-bit",
   "language": "python",
   "name": "python3"
  },
  "language_info": {
   "codemirror_mode": {
    "name": "ipython",
    "version": 3
   },
   "file_extension": ".py",
   "mimetype": "text/x-python",
   "name": "python",
   "nbconvert_exporter": "python",
   "pygments_lexer": "ipython3",
   "version": "3.11.0"
  },
  "vscode": {
   "interpreter": {
    "hash": "aee8b7b246df8f9039afb4144a1f6fd8d2ca17a180786b69acc140d282b71a49"
   }
  }
 },
 "nbformat": 4,
 "nbformat_minor": 5
}
